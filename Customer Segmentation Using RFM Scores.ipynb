{
 "cells": [
  {
   "cell_type": "code",
   "execution_count": 36,
   "id": "08353263",
   "metadata": {},
   "outputs": [
    {
     "data": {
      "text/html": [
       "        <script type=\"text/javascript\">\n",
       "        window.PlotlyConfig = {MathJaxConfig: 'local'};\n",
       "        if (window.MathJax) {MathJax.Hub.Config({SVG: {font: \"STIX-Web\"}});}\n",
       "        if (typeof require !== 'undefined') {\n",
       "        require.undef(\"plotly\");\n",
       "        requirejs.config({\n",
       "            paths: {\n",
       "                'plotly': ['https://cdn.plot.ly/plotly-2.9.0.min']\n",
       "            }\n",
       "        });\n",
       "        require(['plotly'], function(Plotly) {\n",
       "            window._Plotly = Plotly;\n",
       "        });\n",
       "        }\n",
       "        </script>\n",
       "        "
      ]
     },
     "metadata": {},
     "output_type": "display_data"
    }
   ],
   "source": [
    "#import models libraries\n",
    "\n",
    "from sklearn.svm import SVC\n",
    "from sklearn.multioutput import MultiOutputClassifier\n",
    "from sklearn.ensemble import GradientBoostingClassifier\n",
    "from sklearn.tree import DecisionTreeClassifier \n",
    "from sklearn.neighbors import KNeighborsClassifier\n",
    "from sklearn.naive_bayes import GaussianNB\n",
    "from sklearn.ensemble import RandomForestClassifier\n",
    "from sklearn.linear_model import LogisticRegression\n",
    "from sklearn.model_selection import KFold, cross_val_score, train_test_split, GridSearchCV, cross_validate\n",
    "from sklearn.metrics import accuracy_score, f1_score, precision_score, recall_score, confusion_matrix\n",
    "from sklearn.cluster import KMeans\n",
    "import xgboost as xgb\n",
    "import time\n",
    "#import visualization libraries\n",
    "import seaborn as sns \n",
    "import matplotlib.pyplot as plt \n",
    "import plotly.offline as py\n",
    "from plotly.offline import iplot, init_notebook_mode\n",
    "import plotly.graph_objs as go\n",
    "py.init_notebook_mode(connected= True)\n",
    "import missingno as msno\n",
    "import networkx as nx\n",
    "%matplotlib inline\n",
    "\n",
    "\n",
    "#import maths libraries\n",
    "import numpy as np\n",
    "import pandas as pd"
   ]
  },
  {
   "cell_type": "code",
   "execution_count": 37,
   "id": "a6d049c3",
   "metadata": {},
   "outputs": [],
   "source": [
    "#Read your csv data using pandas \n",
    "df = pd.read_csv(\"/home/asmaosman/Documents/Data_Science_Projects/Sales.csv\")"
   ]
  },
  {
   "cell_type": "code",
   "execution_count": 38,
   "id": "1b49abf4",
   "metadata": {},
   "outputs": [
    {
     "data": {
      "text/html": [
       "<div>\n",
       "<style scoped>\n",
       "    .dataframe tbody tr th:only-of-type {\n",
       "        vertical-align: middle;\n",
       "    }\n",
       "\n",
       "    .dataframe tbody tr th {\n",
       "        vertical-align: top;\n",
       "    }\n",
       "\n",
       "    .dataframe thead th {\n",
       "        text-align: right;\n",
       "    }\n",
       "</style>\n",
       "<table border=\"1\" class=\"dataframe\">\n",
       "  <thead>\n",
       "    <tr style=\"text-align: right;\">\n",
       "      <th></th>\n",
       "      <th>CustomerID</th>\n",
       "      <th>TOTAL_ORDERS</th>\n",
       "      <th>REVENUE</th>\n",
       "      <th>LATEST_ORDER_DATE</th>\n",
       "      <th>AVGDAYSBETWEENORDERS</th>\n",
       "    </tr>\n",
       "  </thead>\n",
       "  <tbody>\n",
       "    <tr>\n",
       "      <th>0</th>\n",
       "      <td>2354</td>\n",
       "      <td>124</td>\n",
       "      <td>11986.54</td>\n",
       "      <td>2021-10-24</td>\n",
       "      <td>14.19</td>\n",
       "    </tr>\n",
       "    <tr>\n",
       "      <th>1</th>\n",
       "      <td>2361</td>\n",
       "      <td>82</td>\n",
       "      <td>11025.96</td>\n",
       "      <td>2021-10-24</td>\n",
       "      <td>15.89</td>\n",
       "    </tr>\n",
       "    <tr>\n",
       "      <th>2</th>\n",
       "      <td>2415</td>\n",
       "      <td>43</td>\n",
       "      <td>7259.69</td>\n",
       "      <td>2021-10-24</td>\n",
       "      <td>33.12</td>\n",
       "    </tr>\n",
       "    <tr>\n",
       "      <th>3</th>\n",
       "      <td>2427</td>\n",
       "      <td>44</td>\n",
       "      <td>6992.27</td>\n",
       "      <td>2021-10-24</td>\n",
       "      <td>21.11</td>\n",
       "    </tr>\n",
       "    <tr>\n",
       "      <th>4</th>\n",
       "      <td>2456</td>\n",
       "      <td>55</td>\n",
       "      <td>6263.44</td>\n",
       "      <td>2021-10-24</td>\n",
       "      <td>6.65</td>\n",
       "    </tr>\n",
       "  </tbody>\n",
       "</table>\n",
       "</div>"
      ],
      "text/plain": [
       "   CustomerID  TOTAL_ORDERS   REVENUE LATEST_ORDER_DATE  AVGDAYSBETWEENORDERS\n",
       "0        2354           124  11986.54        2021-10-24                 14.19\n",
       "1        2361            82  11025.96        2021-10-24                 15.89\n",
       "2        2415            43   7259.69        2021-10-24                 33.12\n",
       "3        2427            44   6992.27        2021-10-24                 21.11\n",
       "4        2456            55   6263.44        2021-10-24                  6.65"
      ]
     },
     "execution_count": 38,
     "metadata": {},
     "output_type": "execute_result"
    }
   ],
   "source": [
    "#in a new dataframe, store the parameters (columns) that you will work on, for the RFM model\n",
    "ecom_data = df[['CustomerID','TOTAL_ORDERS','REVENUE','LATEST_ORDER_DATE','AVGDAYSBETWEENORDERS']\n",
    "]\n",
    "ecom_data.head()"
   ]
  },
  {
   "cell_type": "code",
   "execution_count": 39,
   "id": "3a30d796",
   "metadata": {},
   "outputs": [
    {
     "data": {
      "text/plain": [
       "CustomerID                  279492\n",
       "TOTAL_ORDERS                   156\n",
       "REVENUE                    34847.4\n",
       "LATEST_ORDER_DATE       2021-10-24\n",
       "AVGDAYSBETWEENORDERS        1409.5\n",
       "dtype: object"
      ]
     },
     "execution_count": 39,
     "metadata": {},
     "output_type": "execute_result"
    }
   ],
   "source": [
    "#show the maximum values for the recency, frequency \n",
    "#and monetary parameters from the new dataframe\n",
    "\n",
    "ecom_data.max()\n"
   ]
  },
  {
   "cell_type": "code",
   "execution_count": 40,
   "id": "d73d24a7",
   "metadata": {},
   "outputs": [
    {
     "data": {
      "text/html": [
       "<div>\n",
       "<style scoped>\n",
       "    .dataframe tbody tr th:only-of-type {\n",
       "        vertical-align: middle;\n",
       "    }\n",
       "\n",
       "    .dataframe tbody tr th {\n",
       "        vertical-align: top;\n",
       "    }\n",
       "\n",
       "    .dataframe thead th {\n",
       "        text-align: right;\n",
       "    }\n",
       "</style>\n",
       "<table border=\"1\" class=\"dataframe\">\n",
       "  <thead>\n",
       "    <tr style=\"text-align: right;\">\n",
       "      <th></th>\n",
       "      <th>CustomerID</th>\n",
       "      <th>Recency</th>\n",
       "      <th>Frequency</th>\n",
       "      <th>Monetary</th>\n",
       "    </tr>\n",
       "  </thead>\n",
       "  <tbody>\n",
       "    <tr>\n",
       "      <th>0</th>\n",
       "      <td>2333</td>\n",
       "      <td>52</td>\n",
       "      <td>8</td>\n",
       "      <td>34847</td>\n",
       "    </tr>\n",
       "    <tr>\n",
       "      <th>1</th>\n",
       "      <td>2334</td>\n",
       "      <td>93</td>\n",
       "      <td>15</td>\n",
       "      <td>32486</td>\n",
       "    </tr>\n",
       "    <tr>\n",
       "      <th>2</th>\n",
       "      <td>2335</td>\n",
       "      <td>52</td>\n",
       "      <td>24</td>\n",
       "      <td>24178</td>\n",
       "    </tr>\n",
       "    <tr>\n",
       "      <th>3</th>\n",
       "      <td>2336</td>\n",
       "      <td>4</td>\n",
       "      <td>21</td>\n",
       "      <td>18554</td>\n",
       "    </tr>\n",
       "    <tr>\n",
       "      <th>4</th>\n",
       "      <td>2337</td>\n",
       "      <td>129</td>\n",
       "      <td>76</td>\n",
       "      <td>16884</td>\n",
       "    </tr>\n",
       "  </tbody>\n",
       "</table>\n",
       "</div>"
      ],
      "text/plain": [
       "   CustomerID  Recency  Frequency  Monetary\n",
       "0        2333       52          8     34847\n",
       "1        2334       93         15     32486\n",
       "2        2335       52         24     24178\n",
       "3        2336        4         21     18554\n",
       "4        2337      129         76     16884"
      ]
     },
     "execution_count": 40,
     "metadata": {},
     "output_type": "execute_result"
    }
   ],
   "source": [
    "#create the RFM scores for customers\n",
    "import datetime as dt\n",
    "\n",
    "#first, set the latest purchase date\n",
    "latest_date = dt.datetime(2021, 10, 24)\n",
    "\n",
    "#RFM scores for these columns according to customr id \n",
    "rfm_scores = ecom_data.groupby('CustomerID').agg({'LATEST_ORDER_DATE': lambda x: (latest_date - pd.to_datetime(x.max())).days, \n",
    "                                                  'AVGDAYSBETWEENORDERS': lambda x: int(x), \n",
    "                                                  'REVENUE': lambda x: int(x)})\n",
    "#convert date type to integer type\n",
    "rfm_scores['LATEST_ORDER_DATE'] = rfm_scores['LATEST_ORDER_DATE'].astype(int)\n",
    "\n",
    "#Rename columns to Recency, Frequency, Monetary\n",
    "rfm_scores.rename(columns = {'LATEST_ORDER_DATE': 'Recency',\n",
    "                             'AVGDAYSBETWEENORDERS': 'Frequency',\n",
    "                             'REVENUE':'Monetary'}, inplace=True)\n",
    "rfm_scores.reset_index().head()\n"
   ]
  },
  {
   "cell_type": "code",
   "execution_count": 41,
   "id": "f4ee5dd1",
   "metadata": {},
   "outputs": [
    {
     "data": {
      "text/plain": [
       "count    5000.000000\n",
       "mean       86.420000\n",
       "std        80.156513\n",
       "min         0.000000\n",
       "25%         6.000000\n",
       "50%        67.000000\n",
       "75%       170.250000\n",
       "max       206.000000\n",
       "Name: Recency, dtype: float64"
      ]
     },
     "execution_count": 41,
     "metadata": {},
     "output_type": "execute_result"
    }
   ],
   "source": [
    "#Visualize the three columns, recency, frequency, monetary\n",
    "\n",
    "#Recency\n",
    "rfm_scores.Recency.describe()"
   ]
  },
  {
   "cell_type": "code",
   "execution_count": 42,
   "id": "4d6b2046",
   "metadata": {},
   "outputs": [
    {
     "name": "stderr",
     "output_type": "stream",
     "text": [
      "/home/asmaosman/anaconda3/lib/python3.9/site-packages/seaborn/distributions.py:2619: FutureWarning:\n",
      "\n",
      "`distplot` is a deprecated function and will be removed in a future version. Please adapt your code to use either `displot` (a figure-level function with similar flexibility) or `histplot` (an axes-level function for histograms).\n",
      "\n"
     ]
    },
    {
     "data": {
      "image/png": "[encoded data removed]",
      "text/plain": [
       "<Figure size 432x288 with 1 Axes>"
      ]
     },
     "metadata": {
      "needs_background": "light"
     },
     "output_type": "display_data"
    }
   ],
   "source": [
    "# simple distribution plot from seaborn library for displaying the recency values\n",
    "x = rfm_scores['Recency']\n",
    "ax =sns.distplot(x)"
   ]
  },
  {
   "cell_type": "code",
   "execution_count": 43,
   "id": "86f77c70",
   "metadata": {},
   "outputs": [
    {
     "data": {
      "text/plain": [
       "count    5000.000000\n",
       "mean      162.777200\n",
       "std       259.703254\n",
       "min         0.000000\n",
       "25%        21.000000\n",
       "50%        57.000000\n",
       "75%       170.000000\n",
       "max      1409.000000\n",
       "Name: Frequency, dtype: float64"
      ]
     },
     "execution_count": 43,
     "metadata": {},
     "output_type": "execute_result"
    }
   ],
   "source": [
    "#Frequency, positive skewed plot\n",
    "rfm_scores.Frequency.describe()"
   ]
  },
  {
   "cell_type": "code",
   "execution_count": 44,
   "id": "fdd5fe33",
   "metadata": {},
   "outputs": [
    {
     "name": "stderr",
     "output_type": "stream",
     "text": [
      "/home/asmaosman/anaconda3/lib/python3.9/site-packages/seaborn/distributions.py:2619: FutureWarning:\n",
      "\n",
      "`distplot` is a deprecated function and will be removed in a future version. Please adapt your code to use either `displot` (a figure-level function with similar flexibility) or `histplot` (an axes-level function for histograms).\n",
      "\n"
     ]
    },
    {
     "data": {
      "image/png": "[encoded data removed]",
      "text/plain": [
       "<Figure size 1080x720 with 1 Axes>"
      ]
     },
     "metadata": {
      "needs_background": "light"
     },
     "output_type": "display_data"
    }
   ],
   "source": [
    "plt.rcParams['figure.figsize'] = (15, 10)\n",
    "x = rfm_scores.query('Frequency < 1000')['Frequency']\n",
    "ax = sns.distplot(x = x)\n",
    "ax.set_xlabel('Frequency', fontsize = 20)\n",
    "plt.show()\n"
   ]
  },
  {
   "cell_type": "code",
   "execution_count": 45,
   "id": "962c7ba9",
   "metadata": {},
   "outputs": [
    {
     "data": {
      "text/plain": [
       "count     5000.000000\n",
       "mean      1680.951600\n",
       "std       1998.637336\n",
       "min         38.000000\n",
       "25%        315.000000\n",
       "50%        966.000000\n",
       "75%       2492.500000\n",
       "max      34847.000000\n",
       "Name: Monetary, dtype: float64"
      ]
     },
     "execution_count": 45,
     "metadata": {},
     "output_type": "execute_result"
    }
   ],
   "source": [
    "#Monetary, positive skewed plot\n",
    "rfm_scores.Monetary.describe()"
   ]
  },
  {
   "cell_type": "code",
   "execution_count": 46,
   "id": "448b2470",
   "metadata": {},
   "outputs": [
    {
     "name": "stderr",
     "output_type": "stream",
     "text": [
      "/home/asmaosman/anaconda3/lib/python3.9/site-packages/seaborn/distributions.py:2619: FutureWarning:\n",
      "\n",
      "`distplot` is a deprecated function and will be removed in a future version. Please adapt your code to use either `displot` (a figure-level function with similar flexibility) or `histplot` (an axes-level function for histograms).\n",
      "\n"
     ]
    },
    {
     "data": {
      "image/png": "[encoded data removed]",
      "text/plain": [
       "<Figure size 1080x720 with 1 Axes>"
      ]
     },
     "metadata": {
      "needs_background": "light"
     },
     "output_type": "display_data"
    }
   ],
   "source": [
    "plt.rcParams['figure.figsize'] = (15, 10)\n",
    "x = rfm_scores.query('Monetary < 10000')['Monetary']\n",
    "ax = sns.distplot(x = x)\n",
    "ax.set_xlabel('Monetary', fontsize = 20)\n",
    "plt.show()\n"
   ]
  },
  {
   "cell_type": "code",
   "execution_count": 47,
   "id": "3832ea11",
   "metadata": {},
   "outputs": [
    {
     "data": {
      "text/plain": [
       "{'Recency': {0.25: 6.0, 0.5: 67.0, 0.75: 170.25},\n",
       " 'Frequency': {0.25: 21.0, 0.5: 57.0, 0.75: 170.0},\n",
       " 'Monetary': {0.25: 315.0, 0.5: 966.0, 0.75: 2492.5}}"
      ]
     },
     "execution_count": 47,
     "metadata": {},
     "output_type": "execute_result"
    }
   ],
   "source": [
    "# split the values to the 4 quartiles, groups\n",
    "#0-25%, 25-50%, 50-75%, 75-100%\n",
    "\n",
    "quantiles = rfm_scores.quantile(q=[0.25,0.5,0.75])\n",
    "quantiles = quantiles.to_dict()\n",
    "quantiles\n"
   ]
  },
  {
   "cell_type": "code",
   "execution_count": 48,
   "id": "bb39d4ca",
   "metadata": {},
   "outputs": [],
   "source": [
    "#Define low RFM function to calculate the score \n",
    "#give scores to each group, range from 1 to 5 \n",
    "\n",
    "#Assign low scores to low recency values \n",
    "def rec_scoring(x,p,d):\n",
    "    if x <= d[p][0.25]:\n",
    "        return 1\n",
    "    elif x <= d[p][0.5]:\n",
    "        return 2\n",
    "    elif x <= d[p][0.75]:\n",
    "        return 3\n",
    "    else:\n",
    "        return 4\n",
    "\n",
    "#assign scores to frequency and monetary\n",
    "\n",
    "def fm_scoring (x,p,d):\n",
    "    if x <=d[p][0.25]:\n",
    "        return 4\n",
    "    elif x <= d[p][0.5]:\n",
    "        return 3\n",
    "    elif d[p][0.75]:\n",
    "        return 2\n",
    "    else:\n",
    "        return 1 "
   ]
  },
  {
   "cell_type": "code",
   "execution_count": 55,
   "id": "2f5916be",
   "metadata": {},
   "outputs": [
    {
     "data": {
      "text/html": [
       "<div>\n",
       "<style scoped>\n",
       "    .dataframe tbody tr th:only-of-type {\n",
       "        vertical-align: middle;\n",
       "    }\n",
       "\n",
       "    .dataframe tbody tr th {\n",
       "        vertical-align: top;\n",
       "    }\n",
       "\n",
       "    .dataframe thead th {\n",
       "        text-align: right;\n",
       "    }\n",
       "</style>\n",
       "<table border=\"1\" class=\"dataframe\">\n",
       "  <thead>\n",
       "    <tr style=\"text-align: right;\">\n",
       "      <th></th>\n",
       "      <th>Recency</th>\n",
       "      <th>Frequency</th>\n",
       "      <th>Monetary</th>\n",
       "      <th>R</th>\n",
       "      <th>F</th>\n",
       "      <th>M</th>\n",
       "    </tr>\n",
       "    <tr>\n",
       "      <th>CustomerID</th>\n",
       "      <th></th>\n",
       "      <th></th>\n",
       "      <th></th>\n",
       "      <th></th>\n",
       "      <th></th>\n",
       "      <th></th>\n",
       "    </tr>\n",
       "  </thead>\n",
       "  <tbody>\n",
       "    <tr>\n",
       "      <th>251041</th>\n",
       "      <td>53</td>\n",
       "      <td>1216</td>\n",
       "      <td>59</td>\n",
       "      <td>2</td>\n",
       "      <td>2</td>\n",
       "      <td>4</td>\n",
       "    </tr>\n",
       "    <tr>\n",
       "      <th>251042</th>\n",
       "      <td>118</td>\n",
       "      <td>1194</td>\n",
       "      <td>59</td>\n",
       "      <td>3</td>\n",
       "      <td>2</td>\n",
       "      <td>4</td>\n",
       "    </tr>\n",
       "    <tr>\n",
       "      <th>261374</th>\n",
       "      <td>127</td>\n",
       "      <td>1256</td>\n",
       "      <td>51</td>\n",
       "      <td>3</td>\n",
       "      <td>2</td>\n",
       "      <td>4</td>\n",
       "    </tr>\n",
       "    <tr>\n",
       "      <th>268356</th>\n",
       "      <td>131</td>\n",
       "      <td>1202</td>\n",
       "      <td>45</td>\n",
       "      <td>3</td>\n",
       "      <td>2</td>\n",
       "      <td>4</td>\n",
       "    </tr>\n",
       "    <tr>\n",
       "      <th>279492</th>\n",
       "      <td>56</td>\n",
       "      <td>824</td>\n",
       "      <td>38</td>\n",
       "      <td>2</td>\n",
       "      <td>2</td>\n",
       "      <td>4</td>\n",
       "    </tr>\n",
       "  </tbody>\n",
       "</table>\n",
       "</div>"
      ],
      "text/plain": [
       "            Recency  Frequency  Monetary  R  F  M\n",
       "CustomerID                                       \n",
       "251041           53       1216        59  2  2  4\n",
       "251042          118       1194        59  3  2  4\n",
       "261374          127       1256        51  3  2  4\n",
       "268356          131       1202        45  3  2  4\n",
       "279492           56        824        38  2  2  4"
      ]
     },
     "execution_count": 55,
     "metadata": {},
     "output_type": "execute_result"
    }
   ],
   "source": [
    "#Apply the function above on the arguments, rfm values and quantiles\n",
    " \n",
    "rfm_scores['R']= rfm_scores['Recency'].apply(rec_scoring, args = ('Recency', quantiles))\n",
    "rfm_scores['F']= rfm_scores['Frequency'].apply(fm_scoring, args = ('Frequency', quantiles))\n",
    "rfm_scores['M']= rfm_scores['Monetary'].apply(fm_scoring, args = ('Monetary', quantiles))\n",
    "rfm_scores.tail()"
   ]
  },
  {
   "cell_type": "code",
   "execution_count": 85,
   "id": "7043c28e",
   "metadata": {},
   "outputs": [],
   "source": [
    "new_rfm_scores = rfm_scores.drop(['RFM_score', 'RFM_concat'],axis=1)"
   ]
  },
  {
   "cell_type": "code",
   "execution_count": 87,
   "id": "6fedc2d4",
   "metadata": {},
   "outputs": [
    {
     "data": {
      "text/html": [
       "<div>\n",
       "<style scoped>\n",
       "    .dataframe tbody tr th:only-of-type {\n",
       "        vertical-align: middle;\n",
       "    }\n",
       "\n",
       "    .dataframe tbody tr th {\n",
       "        vertical-align: top;\n",
       "    }\n",
       "\n",
       "    .dataframe thead th {\n",
       "        text-align: right;\n",
       "    }\n",
       "</style>\n",
       "<table border=\"1\" class=\"dataframe\">\n",
       "  <thead>\n",
       "    <tr style=\"text-align: right;\">\n",
       "      <th></th>\n",
       "      <th>Recency</th>\n",
       "      <th>Frequency</th>\n",
       "      <th>Monetary</th>\n",
       "      <th>R</th>\n",
       "      <th>F</th>\n",
       "      <th>M</th>\n",
       "      <th>rfm_concat</th>\n",
       "      <th>rfm_score</th>\n",
       "      <th>Loyalty_ranking</th>\n",
       "    </tr>\n",
       "    <tr>\n",
       "      <th>CustomerID</th>\n",
       "      <th></th>\n",
       "      <th></th>\n",
       "      <th></th>\n",
       "      <th></th>\n",
       "      <th></th>\n",
       "      <th></th>\n",
       "      <th></th>\n",
       "      <th></th>\n",
       "      <th></th>\n",
       "    </tr>\n",
       "  </thead>\n",
       "  <tbody>\n",
       "    <tr>\n",
       "      <th>2333</th>\n",
       "      <td>52</td>\n",
       "      <td>8</td>\n",
       "      <td>34847</td>\n",
       "      <td>2</td>\n",
       "      <td>4</td>\n",
       "      <td>2</td>\n",
       "      <td>242</td>\n",
       "      <td>8</td>\n",
       "      <td>Gold</td>\n",
       "    </tr>\n",
       "    <tr>\n",
       "      <th>2334</th>\n",
       "      <td>93</td>\n",
       "      <td>15</td>\n",
       "      <td>32486</td>\n",
       "      <td>3</td>\n",
       "      <td>4</td>\n",
       "      <td>2</td>\n",
       "      <td>342</td>\n",
       "      <td>9</td>\n",
       "      <td>Gold</td>\n",
       "    </tr>\n",
       "    <tr>\n",
       "      <th>2335</th>\n",
       "      <td>52</td>\n",
       "      <td>24</td>\n",
       "      <td>24178</td>\n",
       "      <td>2</td>\n",
       "      <td>3</td>\n",
       "      <td>2</td>\n",
       "      <td>232</td>\n",
       "      <td>7</td>\n",
       "      <td>Silver</td>\n",
       "    </tr>\n",
       "    <tr>\n",
       "      <th>2336</th>\n",
       "      <td>4</td>\n",
       "      <td>21</td>\n",
       "      <td>18554</td>\n",
       "      <td>1</td>\n",
       "      <td>4</td>\n",
       "      <td>2</td>\n",
       "      <td>142</td>\n",
       "      <td>7</td>\n",
       "      <td>Silver</td>\n",
       "    </tr>\n",
       "    <tr>\n",
       "      <th>2337</th>\n",
       "      <td>129</td>\n",
       "      <td>76</td>\n",
       "      <td>16884</td>\n",
       "      <td>3</td>\n",
       "      <td>2</td>\n",
       "      <td>2</td>\n",
       "      <td>322</td>\n",
       "      <td>7</td>\n",
       "      <td>Silver</td>\n",
       "    </tr>\n",
       "  </tbody>\n",
       "</table>\n",
       "</div>"
      ],
      "text/plain": [
       "            Recency  Frequency  Monetary  R  F  M rfm_concat  rfm_score  \\\n",
       "CustomerID                                                                \n",
       "2333             52          8     34847  2  4  2        242          8   \n",
       "2334             93         15     32486  3  4  2        342          9   \n",
       "2335             52         24     24178  2  3  2        232          7   \n",
       "2336              4         21     18554  1  4  2        142          7   \n",
       "2337            129         76     16884  3  2  2        322          7   \n",
       "\n",
       "           Loyalty_ranking  \n",
       "CustomerID                  \n",
       "2333                  Gold  \n",
       "2334                  Gold  \n",
       "2335                Silver  \n",
       "2336                Silver  \n",
       "2337                Silver  "
      ]
     },
     "execution_count": 87,
     "metadata": {},
     "output_type": "execute_result"
    }
   ],
   "source": [
    "#calculate the total RFM score \n",
    "#concatenate the scores to group the scores\n",
    "#add the scores to find the sum value, that is RFM score\n",
    "\n",
    "new_rfm_scores['rfm_concat'] = new_rfm_scores.R.map(str)+rfm_scores.F.map(str)+rfm_scores.M.map(str)\n",
    "\n",
    "new_rfm_scores ['rfm_score'] = new_rfm_scores[['R','F','M']].sum(axis=1)\n",
    "\n",
    "new_rfm_scores.head()"
   ]
  },
  {
   "cell_type": "code",
   "execution_count": 105,
   "id": "7038991b",
   "metadata": {},
   "outputs": [
    {
     "data": {
      "text/plain": [
       "CustomerID\n",
       "2333        Gold\n",
       "2334        Gold\n",
       "2335      Silver\n",
       "2336      Silver\n",
       "2337      Silver\n",
       "           ...  \n",
       "251041      Gold\n",
       "251042      Gold\n",
       "261374      Gold\n",
       "268356      Gold\n",
       "279492      Gold\n",
       "Name: rfm_score, Length: 5000, dtype: object"
      ]
     },
     "execution_count": 105,
     "metadata": {},
     "output_type": "execute_result"
    }
   ],
   "source": [
    "#visualize the distribution of the rfm scores\n",
    "#assign names to each group according to the sum rfm score\n",
    "\n",
    "def group_name(value):\n",
    "    if(value >=10):\n",
    "        return 'Diamond'\n",
    "    elif (value>=8):\n",
    "        return 'Gold'\n",
    "    elif (value>=6):\n",
    "        return 'Silver'\n",
    "    else: \n",
    "        return 'Bronze'\n",
    "    \n",
    "#save the rankings in a list\n",
    "ranking= new_rfm_scores['rfm_score'].apply(group_name)\n",
    "ranking"
   ]
  },
  {
   "cell_type": "code",
   "execution_count": 106,
   "id": "afe6bdf5",
   "metadata": {},
   "outputs": [
    {
     "data": {
      "text/html": [
       "<div>\n",
       "<style scoped>\n",
       "    .dataframe tbody tr th:only-of-type {\n",
       "        vertical-align: middle;\n",
       "    }\n",
       "\n",
       "    .dataframe tbody tr th {\n",
       "        vertical-align: top;\n",
       "    }\n",
       "\n",
       "    .dataframe thead th {\n",
       "        text-align: right;\n",
       "    }\n",
       "</style>\n",
       "<table border=\"1\" class=\"dataframe\">\n",
       "  <thead>\n",
       "    <tr style=\"text-align: right;\">\n",
       "      <th></th>\n",
       "      <th>CustomerID</th>\n",
       "      <th>Recency</th>\n",
       "      <th>Frequency</th>\n",
       "      <th>Monetary</th>\n",
       "      <th>R</th>\n",
       "      <th>F</th>\n",
       "      <th>M</th>\n",
       "      <th>rfm_concat</th>\n",
       "      <th>rfm_score</th>\n",
       "      <th>Loyalty_ranking</th>\n",
       "    </tr>\n",
       "  </thead>\n",
       "  <tbody>\n",
       "    <tr>\n",
       "      <th>0</th>\n",
       "      <td>2333</td>\n",
       "      <td>52</td>\n",
       "      <td>8</td>\n",
       "      <td>34847</td>\n",
       "      <td>2</td>\n",
       "      <td>4</td>\n",
       "      <td>2</td>\n",
       "      <td>242</td>\n",
       "      <td>8</td>\n",
       "      <td>Gold</td>\n",
       "    </tr>\n",
       "    <tr>\n",
       "      <th>1</th>\n",
       "      <td>2334</td>\n",
       "      <td>93</td>\n",
       "      <td>15</td>\n",
       "      <td>32486</td>\n",
       "      <td>3</td>\n",
       "      <td>4</td>\n",
       "      <td>2</td>\n",
       "      <td>342</td>\n",
       "      <td>9</td>\n",
       "      <td>Gold</td>\n",
       "    </tr>\n",
       "    <tr>\n",
       "      <th>2</th>\n",
       "      <td>2335</td>\n",
       "      <td>52</td>\n",
       "      <td>24</td>\n",
       "      <td>24178</td>\n",
       "      <td>2</td>\n",
       "      <td>3</td>\n",
       "      <td>2</td>\n",
       "      <td>232</td>\n",
       "      <td>7</td>\n",
       "      <td>Silver</td>\n",
       "    </tr>\n",
       "    <tr>\n",
       "      <th>3</th>\n",
       "      <td>2336</td>\n",
       "      <td>4</td>\n",
       "      <td>21</td>\n",
       "      <td>18554</td>\n",
       "      <td>1</td>\n",
       "      <td>4</td>\n",
       "      <td>2</td>\n",
       "      <td>142</td>\n",
       "      <td>7</td>\n",
       "      <td>Silver</td>\n",
       "    </tr>\n",
       "    <tr>\n",
       "      <th>4</th>\n",
       "      <td>2337</td>\n",
       "      <td>129</td>\n",
       "      <td>76</td>\n",
       "      <td>16884</td>\n",
       "      <td>3</td>\n",
       "      <td>2</td>\n",
       "      <td>2</td>\n",
       "      <td>322</td>\n",
       "      <td>7</td>\n",
       "      <td>Silver</td>\n",
       "    </tr>\n",
       "  </tbody>\n",
       "</table>\n",
       "</div>"
      ],
      "text/plain": [
       "   CustomerID  Recency  Frequency  Monetary  R  F  M rfm_concat  rfm_score  \\\n",
       "0        2333       52          8     34847  2  4  2        242          8   \n",
       "1        2334       93         15     32486  3  4  2        342          9   \n",
       "2        2335       52         24     24178  2  3  2        232          7   \n",
       "3        2336        4         21     18554  1  4  2        142          7   \n",
       "4        2337      129         76     16884  3  2  2        322          7   \n",
       "\n",
       "  Loyalty_ranking  \n",
       "0            Gold  \n",
       "1            Gold  \n",
       "2          Silver  \n",
       "3          Silver  \n",
       "4          Silver  "
      ]
     },
     "execution_count": 106,
     "metadata": {},
     "output_type": "execute_result"
    }
   ],
   "source": [
    "#Append the ranking list to the model dataframe\n",
    "new_rfm_scores['Loyalty_ranking']=ranking\n",
    "new_rfm_scores.reset_index().head()"
   ]
  },
  {
   "cell_type": "code",
   "execution_count": 108,
   "id": "29400aa6",
   "metadata": {},
   "outputs": [
    {
     "data": {
      "text/plain": [
       "5"
      ]
     },
     "execution_count": 108,
     "metadata": {},
     "output_type": "execute_result"
    }
   ],
   "source": [
    "#find the minimum rfm score \n",
    "new_rfm_scores['rfm_score'].min()"
   ]
  },
  {
   "cell_type": "code",
   "execution_count": 109,
   "id": "3fb08e54",
   "metadata": {},
   "outputs": [
    {
     "name": "stderr",
     "output_type": "stream",
     "text": [
      "/home/asmaosman/anaconda3/lib/python3.9/site-packages/seaborn/_decorators.py:36: FutureWarning:\n",
      "\n",
      "Pass the following variable as a keyword arg: x. From version 0.12, the only valid positional argument will be `data`, and passing other arguments without an explicit keyword will result in an error or misinterpretation.\n",
      "\n"
     ]
    },
    {
     "data": {
      "image/png": "[encoded data removed]",
      "text/plain": [
       "<Figure size 576x360 with 1 Axes>"
      ]
     },
     "metadata": {
      "needs_background": "light"
     },
     "output_type": "display_data"
    }
   ],
   "source": [
    "#visualize the distribution of the loyalty rankings \n",
    "#basic bar plot\n",
    "plt.rcParams['figure.figsize'] = (8, 5)\n",
    "ax = sns.countplot(new_rfm_scores['Loyalty_ranking'])\n",
    "ax.set_xlabel('RFM Loyalty Distribution', fontsize = 20)\n",
    "plt.show()\n"
   ]
  },
  {
   "cell_type": "code",
   "execution_count": 110,
   "id": "c442724e",
   "metadata": {},
   "outputs": [
    {
     "name": "stderr",
     "output_type": "stream",
     "text": [
      "/home/asmaosman/anaconda3/lib/python3.9/site-packages/seaborn/_decorators.py:36: FutureWarning:\n",
      "\n",
      "Pass the following variable as a keyword arg: x. From version 0.12, the only valid positional argument will be `data`, and passing other arguments without an explicit keyword will result in an error or misinterpretation.\n",
      "\n"
     ]
    },
    {
     "data": {
      "image/png": "[encoded data removed]",
      "text/plain": [
       "<Figure size 720x432 with 1 Axes>"
      ]
     },
     "metadata": {
      "needs_background": "light"
     },
     "output_type": "display_data"
    }
   ],
   "source": [
    "#visualize the distribution of the concatenated scores groups \n",
    "df2=new_rfm_scores['rfm_concat'].sort_values(ascending=True)\n",
    "plt.rcParams['figure.figsize'] = (10, 6)\n",
    "ax = sns.countplot(df2)\n",
    "ax.set_xlabel('RFM Score Group', fontsize = 11)\n",
    "plt.xticks(rotation=90)\n",
    "plt.show()\n",
    "\n"
   ]
  },
  {
   "cell_type": "code",
   "execution_count": 149,
   "id": "ad14589c",
   "metadata": {},
   "outputs": [
    {
     "data": {
      "text/plain": [
       "Silver     2190\n",
       "Gold       1775\n",
       "Diamond     880\n",
       "Bronze      155\n",
       "Name: Loyalty_ranking, dtype: int64"
      ]
     },
     "execution_count": 149,
     "metadata": {},
     "output_type": "execute_result"
    }
   ],
   "source": [
    "new_rfm_scores['Loyalty_ranking'].value_counts()"
   ]
  },
  {
   "cell_type": "code",
   "execution_count": null,
   "id": "828a7afe",
   "metadata": {},
   "outputs": [],
   "source": []
  }
 ],
 "metadata": {
  "kernelspec": {
   "display_name": "Python 3 (ipykernel)",
   "language": "python",
   "name": "python3"
  },
  "language_info": {
   "codemirror_mode": {
    "name": "ipython",
    "version": 3
   },
   "file_extension": ".py",
   "mimetype": "text/x-python",
   "name": "python",
   "nbconvert_exporter": "python",
   "pygments_lexer": "ipython3",
   "version": "3.9.12"
  }
 },
 "nbformat": 4,
 "nbformat_minor": 5
}
